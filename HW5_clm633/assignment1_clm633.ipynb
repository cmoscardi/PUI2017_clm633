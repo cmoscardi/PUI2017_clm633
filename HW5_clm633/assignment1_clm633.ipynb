{
 "cells": [
  {
   "cell_type": "markdown",
   "metadata": {},
   "source": [
    "## Assignment 1: Test the Z test: \n",
    "(all simulated data)\n",
    "\n",
    "\n",
    "Generate N samples from a distribution of your choice, **but not a Gaussian** with a chosen mean μ and standard deviation σ:   N(μ, σ) and calculate the mean of each sample (all samples should have the same size n). \n",
    "\n",
    "Assess the validity of the Z-test: If the samples are drawn from the distribution you are testing the z-values you calculate should follow a N(0,1) distribution (a Gaussian with mean 0 and standard deviation 1). Show that the distribution of z -statistics (find the formula in a statistics book or in last week’s slides) that you calculated (one for each sample) is indeed consistent with N(0,1)."
   ]
  },
  {
   "cell_type": "markdown",
   "metadata": {},
   "source": [
    "### Grading: \n",
    "you must:\n",
    "\n",
    "plot your original distribution"
   ]
  },
  {
   "cell_type": "code",
   "execution_count": 44,
   "metadata": {
    "collapsed": false
   },
   "outputs": [
    {
     "data": {
      "text/plain": [
       "[<matplotlib.lines.Line2D at 0x7f2249bda9d0>]"
      ]
     },
     "execution_count": 44,
     "metadata": {},
     "output_type": "execute_result"
    },
    {
     "data": {
      "image/png": "[encoded data removed]",
      "text/plain": [
       "<matplotlib.figure.Figure at 0x7f224a39e510>"
      ]
     },
     "metadata": {},
     "output_type": "display_data"
    }
   ],
   "source": [
    "import matplotlib.pylab as plt\n",
    "%matplotlib inline\n",
    "import numpy as np\n",
    "import scipy.stats\n",
    "\n",
    "# why not\n",
    "distribution = scipy.stats.beta\n",
    "# 50% success rate\n",
    "alpha = 5.\n",
    "beta = 1.\n",
    "dist_mean = (alpha / (alpha + beta))\n",
    "dist_var = (alpha * beta) / (((alpha + beta)**2 ) * (1 + alpha + beta))\n",
    "dist_std = np.sqrt(dist_var)\n",
    "\n",
    "x = np.linspace(0, 1, 100)\n",
    "plt.plot(x, distribution.pdf(x, alpha, beta))"
   ]
  },
  {
   "cell_type": "markdown",
   "metadata": {},
   "source": [
    "plot at least one of the samples"
   ]
  },
  {
   "cell_type": "code",
   "execution_count": 34,
   "metadata": {
    "collapsed": false
   },
   "outputs": [
    {
     "data": {
      "text/plain": [
       "[<matplotlib.lines.Line2D at 0x7f224786dbd0>]"
      ]
     },
     "execution_count": 34,
     "metadata": {},
     "output_type": "execute_result"
    },
    {
     "data": {
      "image/png": "[encoded data removed]",
      "text/plain": [
       "<matplotlib.figure.Figure at 0x7f224786dc10>"
      ]
     },
     "metadata": {},
     "output_type": "display_data"
    }
   ],
   "source": [
    "np.random.seed(42)\n",
    "n_samples = 123\n",
    "sample_size = 200\n",
    "samples = distribution.rvs(alpha, beta, size=(n_samples, sample_size), random_state=42)\n",
    "plt.hist(samples[0], label='counts')\n",
    "plt.plot(x, 14 * distribution.pdf(x, alpha, beta), 'r-', label='distribution pdf')"
   ]
  },
  {
   "cell_type": "markdown",
   "metadata": {},
   "source": [
    "plot the distribution of z statistics"
   ]
  },
  {
   "cell_type": "code",
   "execution_count": 49,
   "metadata": {
    "collapsed": false
   },
   "outputs": [
    {
     "data": {
      "text/plain": [
       "<matplotlib.lines.Line2D at 0x7f22498d3910>"
      ]
     },
     "execution_count": 49,
     "metadata": {},
     "output_type": "execute_result"
    },
    {
     "data": {
      "image/png": "[encoded data removed]",
      "text/plain": [
       "<matplotlib.figure.Figure at 0x7f22498d3410>"
      ]
     },
     "metadata": {},
     "output_type": "display_data"
    }
   ],
   "source": [
    "means = np.mean(samples, axis=1)\n",
    "assert len(means) == n_samples # this is how i figure out which axis to use lol\n",
    "plt.hist(means, label='counts of means')\n",
    "plt.axvline(dist_mean, color='r', linestyle='--', label='distribution mean')"
   ]
  },
  {
   "cell_type": "code",
   "execution_count": 51,
   "metadata": {
    "collapsed": false
   },
   "outputs": [
    {
     "data": {
      "text/plain": [
       "(array([  5.,   6.,  10.,  24.,  23.,  27.,  23.,   3.,   0.,   2.]),\n",
       " array([-2.73409524, -2.14520508, -1.55631492, -0.96742476, -0.3785346 ,\n",
       "         0.21035556,  0.79924572,  1.38813588,  1.97702604,  2.5659162 ,\n",
       "         3.15480636]),\n",
       " <a list of 10 Patch objects>)"
      ]
     },
     "execution_count": 51,
     "metadata": {},
     "output_type": "execute_result"
    },
    {
     "data": {
      "image/png": "[encoded data removed]",
      "text/plain": [
       "<matplotlib.figure.Figure at 0x7f22497d4c50>"
      ]
     },
     "metadata": {},
     "output_type": "display_data"
    }
   ],
   "source": [
    "z_stats = (means - dist_mean) / (dist_std / np.sqrt(sample_size))\n",
    "plt.hist(z_stats)"
   ]
  },
  {
   "cell_type": "markdown",
   "metadata": {},
   "source": [
    "fit the z-statistics with a gaussian model and assess the goodness of fit with a simple test (AD or KS)."
   ]
  },
  {
   "cell_type": "code",
   "execution_count": 90,
   "metadata": {
    "collapsed": false
   },
   "outputs": [
    {
     "name": "stdout",
     "output_type": "stream",
     "text": [
      "sample mean: -0.0423030733259\n",
      "sample std: 1.06733019208\n",
      "pretttty close!\n"
     ]
    },
    {
     "data": {
      "text/plain": [
       "[<matplotlib.lines.Line2D at 0x7f22485f2590>]"
      ]
     },
     "execution_count": 90,
     "metadata": {},
     "output_type": "execute_result"
    },
    {
     "data": {
      "image/png": "[encoded data removed]",
      "text/plain": [
       "<matplotlib.figure.Figure at 0x7f22485f2150>"
      ]
     },
     "metadata": {},
     "output_type": "display_data"
    }
   ],
   "source": [
    "zm = z_stats.mean()\n",
    "zstd = z_stats.std(ddof=1)\n",
    "print \"sample mean: {}\".format(zm)\n",
    "print \"sample std: {}\".format(zstd)\n",
    "print \"pretttty close!\"\n",
    "plt.hist(z_stats)\n",
    "# i know you can yscale better, see HW2 where i did it for completeness' sake\n",
    "x = np.linspace(-3, 3, 100)\n",
    "plt.plot(x, 100 *scipy.stats.norm.pdf(x, zm, zstd), 'r-', label='normal with sample parameters')\n",
    "plt.plot(x, 100 * scipy.stats.norm.pdf(x, 0, 1), 'g-', label='normal with (0, 1)')"
   ]
  },
  {
   "cell_type": "code",
   "execution_count": 82,
   "metadata": {
    "collapsed": false
   },
   "outputs": [
    {
     "name": "stdout",
     "output_type": "stream",
     "text": [
      "KS on fitted normal: Ks_2sampResult(statistic=0.062219512195121895, pvalue=0.77749637241613556)\n",
      "KS on (0, 1): Ks_2sampResult(statistic=0.052243902439024437, pvalue=0.91917575339001545)\n",
      "Thus, with a p-value significantly > .05, we don't reject the null hypothesis that this came from N(0, 1)\n"
     ]
    }
   ],
   "source": [
    "np.random.seed(42)\n",
    "normal_samples = np.random.normal(size=1000)\n",
    "fitted_samples = np.random.normal(size=1000, loc=zm, scale=zstd)\n",
    "print \"KS on fitted normal: {}\".format(scipy.stats.ks_2samp(z_stats, fitted_samples))\n",
    "print \"KS on (0, 1): {}\".format(scipy.stats.ks_2samp(z_stats, normal_samples))\n",
    "print \"Thus, with a p-value significantly > .05, we don't reject the null hypothesis that this came from N(0, 1)\""
   ]
  },
  {
   "cell_type": "markdown",
   "metadata": {},
   "source": [
    "find the best fit values for the model parameters (mean and standard deviation) by minimizing the model chi square."
   ]
  },
  {
   "cell_type": "code",
   "execution_count": null,
   "metadata": {
    "collapsed": true
   },
   "outputs": [],
   "source": [
    "scipy.stats.chi"
   ]
  },
  {
   "cell_type": "markdown",
   "metadata": {},
   "source": [
    "plots need have caption, axis labels, etx and comment your figures and test results appropriately (to demonstrate your understanding)."
   ]
  },
  {
   "cell_type": "code",
   "execution_count": null,
   "metadata": {
    "collapsed": true
   },
   "outputs": [],
   "source": []
  }
 ],
 "metadata": {
  "kernelspec": {
   "display_name": "Python 2",
   "language": "python",
   "name": "python2"
  },
  "language_info": {
   "codemirror_mode": {
    "name": "ipython",
    "version": 2
   },
   "file_extension": ".py",
   "mimetype": "text/x-python",
   "name": "python",
   "nbconvert_exporter": "python",
   "pygments_lexer": "ipython2",
   "version": "2.7.11"
  }
 },
 "nbformat": 4,
 "nbformat_minor": 0
}

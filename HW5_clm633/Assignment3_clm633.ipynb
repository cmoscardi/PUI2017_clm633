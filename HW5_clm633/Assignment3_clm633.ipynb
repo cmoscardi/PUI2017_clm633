{
 "cells": [
  {
   "cell_type": "markdown",
   "metadata": {
    "toc": "true"
   },
   "source": [
    "# Table of Contents\n",
    " <p><div class=\"lev1 toc-item\"><a href=\"#DATA:\" data-toc-modified-id=\"DATA:-1\"><span class=\"toc-item-num\">1&nbsp;&nbsp;</span>DATA:</a></div><div class=\"lev1 toc-item\"><a href=\"#exploration\" data-toc-modified-id=\"exploration-2\"><span class=\"toc-item-num\">2&nbsp;&nbsp;</span>exploration</a></div><div class=\"lev2 toc-item\"><a href=\"#plot-mass-shooting-vs-gdp-in-absolute-numbers,-and-per-person.-Show-the-errorbars-(y-errors)\" data-toc-modified-id=\"plot-mass-shooting-vs-gdp-in-absolute-numbers,-and-per-person.-Show-the-errorbars-(y-errors)-21\"><span class=\"toc-item-num\">2.1&nbsp;&nbsp;</span>plot mass shooting vs gdp in absolute numbers, and per person. Show the errorbars (y errors)</a></div><div class=\"lev2 toc-item\"><a href=\"#plot-the-average-number-of-civilian-fire-arms-per-person\" data-toc-modified-id=\"plot-the-average-number-of-civilian-fire-arms-per-person-22\"><span class=\"toc-item-num\">2.2&nbsp;&nbsp;</span>plot the average number of civilian fire arms per person</a></div><div class=\"lev2 toc-item\"><a href=\"#plot-the-average-number-of-homicide-by-fire-arms-per-person\" data-toc-modified-id=\"plot-the-average-number-of-homicide-by-fire-arms-per-person-23\"><span class=\"toc-item-num\">2.3&nbsp;&nbsp;</span>plot the average number of homicide by fire arms per person</a></div><div class=\"lev2 toc-item\"><a href=\"#plot-the-number-of--homicides-by-fire-arm-against-the-number-of-civilian-firearms.-plot-the--US-in-a-different-color\" data-toc-modified-id=\"plot-the-number-of--homicides-by-fire-arm-against-the-number-of-civilian-firearms.-plot-the--US-in-a-different-color-24\"><span class=\"toc-item-num\">2.4&nbsp;&nbsp;</span>plot the number of  homicides by fire arm against the number of civilian firearms. plot the  US in a different color</a></div><div class=\"lev2 toc-item\"><a href=\"#plot-the-number-of--mass-shootings-against-the-number-of-civilian-firearms.-plot-the--US-in-a-different-color\" data-toc-modified-id=\"plot-the-number-of--mass-shootings-against-the-number-of-civilian-firearms.-plot-the--US-in-a-different-color-25\"><span class=\"toc-item-num\">2.5&nbsp;&nbsp;</span>plot the number of  mass shootings against the number of civilian firearms. plot the  US in a different color</a></div><div class=\"lev1 toc-item\"><a href=\"#Modeling\" data-toc-modified-id=\"Modeling-3\"><span class=\"toc-item-num\">3&nbsp;&nbsp;</span>Modeling</a></div><div class=\"lev2 toc-item\"><a href=\"#fit-a-line-to-the-Number-of-mass-shootings--per-person-as-a-function-of-Average-total-all-civilian-firearms-per-person.\" data-toc-modified-id=\"fit-a-line-to-the-Number-of-mass-shootings--per-person-as-a-function-of-Average-total-all-civilian-firearms-per-person.-31\"><span class=\"toc-item-num\">3.1&nbsp;&nbsp;</span>fit a line to the Number of mass shootings  per person as a function of Average total all civilian firearms per person.</a></div><div class=\"lev2 toc-item\"><a href=\"#Extra-credit:-calculate-the-confidence-interval-by-hand-and-also-plot-them\" data-toc-modified-id=\"Extra-credit:-calculate-the-confidence-interval-by-hand-and-also-plot-them-32\"><span class=\"toc-item-num\">3.2&nbsp;&nbsp;</span>Extra credit: calculate the confidence interval by hand and also plot them</a></div><div class=\"lev2 toc-item\"><a href=\"#Use-the-stsatsmodels.gaphics-package-to-plot-the-influence-plot.\" data-toc-modified-id=\"Use-the-stsatsmodels.gaphics-package-to-plot-the-influence-plot.-33\"><span class=\"toc-item-num\">3.3&nbsp;&nbsp;</span>Use the stsatsmodels.gaphics package to plot the influence plot.</a></div><div class=\"lev2 toc-item\"><a href=\"#Extra-credit:-calculate-from-scratch-the-stanrdardized-residuals-and-the-H-leverage-for-the-WLS-model-and-discuss-if-there-are-any-differences\" data-toc-modified-id=\"Extra-credit:-calculate-from-scratch-the-stanrdardized-residuals-and-the-H-leverage-for-the-WLS-model-and-discuss-if-there-are-any-differences-34\"><span class=\"toc-item-num\">3.4&nbsp;&nbsp;</span>Extra credit: calculate from scratch the stanrdardized residuals and the H leverage for the WLS model and discuss if there are any differences</a></div><div class=\"lev2 toc-item\"><a href=\"#Discuss-your-findings\" data-toc-modified-id=\"Discuss-your-findings-35\"><span class=\"toc-item-num\">3.5&nbsp;&nbsp;</span>Discuss your findings</a></div>"
   ]
  },
  {
   "cell_type": "markdown",
   "metadata": {},
   "source": [
    "**regression exercise**\n",
    "\n",
    "**written by Federica B Bianco CUSP 2017**\n",
    "\n",
    "**for PUI lecture on models and linear regression**"
   ]
  },
  {
   "cell_type": "markdown",
   "metadata": {},
   "source": [
    "**investigate linear relationships between fire arm possession, homicides by fire arms, and mass shootings for different countries, considering also the country GDP**"
   ]
  },
  {
   "cell_type": "markdown",
   "metadata": {},
   "source": [
    "# DATA: \n",
    "\n",
    "The Guardian firearms murders and ownership data. The relevans sheet is uploaded in the github repository as a csv file. Download it from there. Note: this dataset is from 2012.\n",
    "\n",
    "**Extra credit**: download directly from google docs with a google API\n",
    "\n",
    "https://docs.google.com/spreadsheets/d/1chqUZHuY6cXYrRYkuE0uwXisGaYvr7durZHJhpLGycs/edit#gid=0\n",
    "\n",
    "Number of mass shootings: find the link here https://datawrapper.dwcdn.net/pvLFI/4/\n",
    "\n",
    "The world population by country find the download link here :\n",
    "https://data.worldbank.org/indicator/SP.POP.TOTL\n",
    "\n",
    "Remember that all read or downloads have to me reproducible.\n",
    "\n",
    "Merge all datasets. After throwing away the irrelevant data it should look something like this (I renamed the GDP and the population as gdp\" and \"pop\")\n",
    "\n",
    "Throughout, when I ask you to include errors in plots or models, use Poisson statistics: the error is the square root of the number you are considering (e.g. this country has N fire arms +/- square root of N, or this country has Np [= N/population +/- (square root of N) / population] fire arms per person)."
   ]
  },
  {
   "cell_type": "code",
   "execution_count": null,
   "metadata": {
    "collapsed": false
   },
   "outputs": [],
   "source": [
    "from __future__ import division \n",
    "\n",
    "from io import StringIO\n",
    "import re\n",
    "\n",
    "from bs4 import BeautifulSoup\n",
    "import matplotlib.pylab as pl\n",
    "%pylab inline \n",
    "\n",
    "import pandas as pd\n",
    "import requests\n",
    "\n",
    "!mkdir -p data\n",
    "!wget -O data/pops.zip -nc http://api.worldbank.org/v2/en/indicator/SP.POP.TOTL?downloadformat=csv\n",
    "!wget -O data/gdp.zip -nc http://api.worldbank.org/v2/en/indicator/NY.GDP.MKTP.CD?downloadformat=csv\n",
    "# the shell magic runs a separte subprocess, so we stay in the same cwd\n",
    "!cd data; unzip -o pops.zip\n",
    "!cd data; unzip -o gdp.zip\n",
    "\n",
    "#f = open(\"data/API_SP.POP.TOTL_DS2_en_csv_v2.csv\", skiprows=4)\n",
    "pops = pd.read_csv(\"data/API_SP.POP.TOTL_DS2_en_csv_v2.csv\", skiprows=4)\n",
    "gdps = pd.read_csv(\"data/API_NY.GDP.MKTP.CD_DS2_en_csv_v2.csv\", skiprows=4)\n",
    "\n",
    "# lol seriously guys? injecting the data into the HTML without a separate endpoint?\n",
    "if 'ms' not in globals():\n",
    "    print 'ms not present, rerunning'\n",
    "    pg = requests.get(\"https://datawrapper.dwcdn.net/pvLFI/4/\").text\n",
    "    # i know this is awful\n",
    "    parsed = \" \".join(re.findall(r'data:.*', pg)[0].split(\" \")[1:])\\\n",
    "                .decode(\"string_escape\")[1:-1]\n",
    "    f_like = StringIO(unicode(parsed))\n",
    "    ms = pd.read_csv(f_like)\n",
    "    # lol\n",
    "    ms[\"Country\"] = ms[\"Country\"].apply(lambda x: x.split(\"*\")[0])\n",
    "else:\n",
    "    print 'ms exists, not redownloading'\n",
    "\n",
    "# extra credit, yeah?\n",
    "if 'df' not in globals():\n",
    "    print \"df not existing, rerunning\"\n",
    "    df = pd.read_csv('https://docs.google.com/spreadsheet/ccc?key=1chqUZHuY6cXYrRYkuE0uwXisGaYvr7durZHJhpLGycs&output=csv')\n",
    "else:\n",
    "    print 'df exists, not redownloading'\n"
   ]
  },
  {
   "cell_type": "code",
   "execution_count": null,
   "metadata": {
    "ExecuteTime": {
     "end_time": "2017-10-12T11:18:40.575581",
     "start_time": "2017-10-12T11:18:40.446116"
    },
    "collapsed": false,
    "run_control": {
     "frozen": false,
     "read_only": false
    }
   },
   "outputs": [],
   "source": [
    "pops_sel = pops[[\"Country Name\", \"2012\"]].rename(columns={\"2012\": \"pop\"})\n",
    "gdps_sel = gdps[[\"Country Name\", \"2012\"]].rename(columns={\"2012\": \"gdp\"})\n",
    "\n",
    "df_ = df.merge(pops_sel, left_on=\"Country/Territory\", right_on=\"Country Name\").drop(\"Country Name\", axis=1)\\\n",
    "        .merge(gdps_sel, left_on=\"Country/Territory\", right_on=\"Country Name\")\n",
    "df_ = df_.merge(ms, right_on=\"Country\", left_on=\"Country Name\")"
   ]
  },
  {
   "cell_type": "markdown",
   "metadata": {},
   "source": [
    "# exploration\n",
    "\n",
    "## plot mass shooting vs gdp in absolute numbers, and per person. Show the errorbars (y errors)\n",
    "\n",
    "Use Poisson statistics for the errorbars on the number of mass shootings (optional: include errors on the population, also as Poisson statistics)\n",
    "\n",
    "Are there any points that look like they may be outilers?\n"
   ]
  },
  {
   "cell_type": "code",
   "execution_count": null,
   "metadata": {
    "ExecuteTime": {
     "end_time": "2017-10-12T11:24:38.210994",
     "start_time": "2017-10-12T11:24:37.927232"
    },
    "collapsed": false
   },
   "outputs": [],
   "source": [
    "fig = pl.figure(figsize=(10,5)) \n",
    "ax = fig.add_subplot(111)\n",
    "\n",
    "scatter = ax.scatter(df_.gdp / 1e9, df_['Number of mass shootings'])\n",
    "ax.errorbar(df_.gdp / 1e9, df_['Number of mass shootings'], \n",
    "            yerr = np.sqrt(df_['Number of mass shootings'] * 1.0), fmt = '.')\n",
    "ax.set_xlabel(\"GDP (in billions)\")\n",
    "ax.set_ylabel(\"Number of mass shooting per person\")\n",
    "ax.set_ylim()\n",
    "pl.show()\n",
    "print (\"Number of mass shooting vs GDP, \" + \n",
    "       \"errors represent Poisson statistics.\\n\" + \n",
    "       \"The datapoint to the top right of the plot is the USA, \" + \n",
    "       \"which has noth the highest GDP and the highest number of mass shootings\")\n"
   ]
  },
  {
   "cell_type": "markdown",
   "metadata": {},
   "source": [
    "## plot the average number of civilian fire arms per person\n",
    "first without errors, then with errors. are there  points that look like outliers?"
   ]
  },
  {
   "cell_type": "code",
   "execution_count": null,
   "metadata": {
    "ExecuteTime": {
     "end_time": "2017-10-12T07:17:52.778486",
     "start_time": "2017-10-12T07:17:52.768299"
    },
    "collapsed": false,
    "run_control": {
     "frozen": false,
     "read_only": false
    }
   },
   "outputs": [],
   "source": [
    "#df_['shootingspp'] = df_[\"Number of mass shootings\"] / df_['pop'] * 1e3\n",
    "df_['firearmspp'] = df_['Average firearms per 100 people'] / 100.\n",
    "df_['firearmspp'].hist(color='r')"
   ]
  },
  {
   "cell_type": "code",
   "execution_count": null,
   "metadata": {
    "collapsed": false
   },
   "outputs": [],
   "source": [
    "# https://stackoverflow.com/questions/11774822/matplotlib-histogram-with-errorbars\n",
    "y,binEdges = np.histogram(df_[\"firearmspp\"])\n",
    "bincenters = 0.5*(binEdges[1:]+binEdges[:-1])\n",
    "menStd     = np.sqrt(y)\n",
    "width      = 0.05\n",
    "pl.bar(bincenters, y, width=width, color='r', yerr=menStd)"
   ]
  },
  {
   "cell_type": "markdown",
   "metadata": {},
   "source": [
    "## plot the average number of homicide by fire arms per person\n",
    "first as a histogram\n",
    "\n",
    "then against the country GDP, with statistical errors. are there  points that look like outliers?"
   ]
  },
  {
   "cell_type": "code",
   "execution_count": null,
   "metadata": {
    "ExecuteTime": {
     "end_time": "2017-10-12T07:53:17.910541",
     "start_time": "2017-10-12T07:53:17.506477"
    },
    "collapsed": false,
    "scrolled": true
   },
   "outputs": [],
   "source": [
    "fig, ax = plt.subplots()\n",
    "ax.hist(df_['Number of homicides by firearm'] / (df_['pop'] * 1000))\n",
    "ax.set_xlabel('homicides by firearm per 1000 people');"
   ]
  },
  {
   "cell_type": "markdown",
   "metadata": {},
   "source": [
    "### This figure was here before me but had no caption. This is my caption. I will also remark that the histogram for literally \"per person\" would look identical to this."
   ]
  },
  {
   "cell_type": "code",
   "execution_count": null,
   "metadata": {
    "collapsed": false
   },
   "outputs": [],
   "source": [
    "rat_1 = df_[\"Number of homicides by firearm\"]\n",
    "rat_2 = ((df_['pop']))\n",
    "y = (rat_1) / (rat_2)\n",
    "x = df_[\"gdp\"]\n",
    "\n",
    "\n",
    "fig, (ax1, ax2) = plt.subplots(2)\n",
    "ax1.scatter(x, y)\n",
    "ax2.scatter(x, y)\n",
    "# # number of gun owners = number in population * probability that anyone in population is a gun owner\n",
    "p = y\n",
    "errs = np.sqrt(p * (1 - p))\n",
    "ax.errorbar(x, y, \n",
    "            yerr = errs, fmt = '.')\n",
    "ax1.set_title(\"Number of homicides by firearm vs. gdp\")\n",
    "ax1.set_ylabel(\"Number of homicides by firearm per 1000 people\")\n",
    "ax1.set_xlabel(\"gdp\")\n",
    "ax2.set_title(\"Number of homicides by firearm vs. gdp\")\n",
    "ax2.set_ylabel(\"Number of homicides by firearm per 1000 people\")\n",
    "ax2.set_xlabel(\"gdp\")"
   ]
  },
  {
   "cell_type": "markdown",
   "metadata": {},
   "source": [
    "### Caption: I should get a 100 on this assignment for correctly computing the error bars...\n",
    "https://watermark.silverchair.com/100-3-165.pdf?token=AQECAHi208BE49Ooan9kkhW_Ercy7Dm3ZL_9Cf3qfKAc485ysgAAAgAwggH8BgkqhkiG9w0BBwagggHtMIIB6QIBADCCAeIGCSqGSIb3DQEHATAeBglghkgBZQMEAS4wEQQM9fyRPJagkLotc0LSAgEQgIIBs4Rl7f_e_X24A9N4mYdAkp5XdKI0eoxJ8ska47bP31NvH4BagCsujZwNFcCiwj3DSQBHaPIGN03tyBt-pnL9UmCg8cmZOAU7fW6Xj1tB8ujChyUFVHrJmnNvF0MP2xWdxRemQF_bdw_8bep1e5S2Vsg3UYADHFV8LjDnA_u2E_i9PRwGMVH28dW8nYXJKlHng8U_VLN7mCvggTe3zKBQv--IGZXRAb1jvYPfw6aEgv_tEDtk4-LPWLHgRygSLIIcu5kh4jSaZQdZ_jdmp6yXYLY7r2rHpdfWBTl0yspungF7BX_5qGUSdjJpo-08mhCQmLChiHxCo6Ka8ILJFMKwb8awpZteBj1F09o0V7PnCjFvucMoF_OyO18jF74NcGVxwNQMHPeJqiB2zsZp6T_71Ja-Tl9uioJSWxMoJNhubOyf2Ao7l35tYI3k6G1fs7jIjhD1pWklm5vVX1kODeEmhGE_gClVpujUvFoCp66kNHL2wkAb6Fy78PoAMmgpY2mICUTuL2HEswroc12iP2et3IddgRJLLyt8DxmB7zvCjvqFnuYDQS1w0naDKldQ615T6WQXhQ"
   ]
  },
  {
   "cell_type": "markdown",
   "metadata": {},
   "source": [
    "## plot the number of  homicides by fire arm against the number of civilian firearms. plot the  US in a different color\n",
    "with and without errorbars\n"
   ]
  },
  {
   "cell_type": "code",
   "execution_count": null,
   "metadata": {
    "collapsed": false
   },
   "outputs": [],
   "source": [
    "fig, ax = plt.subplots()\n",
    "y = df_[\"Number of homicides by firearm\"]\n",
    "x = df_[\"Average total all civilian firearms\"]\n",
    "ax.scatter(x, y, c=['b'] * (len(x) - 1) + ['r'])\n",
    "ax.set_title(\"Number of homicides by firearm vs. Average total all civilian firearms\")\n",
    "ax.set_ylabel(\"Number of homicides by firearm\")\n",
    "ax.set_xlabel(\"Average total all civilian firearms\")"
   ]
  },
  {
   "cell_type": "markdown",
   "metadata": {},
   "source": [
    "### Caption: ._."
   ]
  },
  {
   "cell_type": "code",
   "execution_count": null,
   "metadata": {
    "collapsed": false
   },
   "outputs": [],
   "source": [
    "fig, ax = plt.subplots()\n",
    "y = df_[\"Number of homicides by firearm\"]\n",
    "x = df_[\"Average total all civilian firearms\"]\n",
    "colors = ['b'] * (len(x) - 1) + ['r']\n",
    "ax.scatter(x, y, c=colors)\n",
    "\n",
    "# for some reason i cant pass in a list of colors to this one...\n",
    "ax.errorbar(x[:-1], y[:-1], \n",
    "            yerr = np.sqrt(y[:-1]), ecolor=colors[:-1], color='b', fmt = '.')\n",
    "ax.errorbar(x[-1:], y[-1:], \n",
    "            yerr = np.sqrt(y[-1:]), ecolor=colors[-1:], color='r', fmt = '.')\n",
    "ax.set_title(\"Number of homicides by firearm vs. Average total all civilian firearms\")\n",
    "ax.set_ylabel(\"Number of homicides by firearm\")\n",
    "ax.set_xlabel(\"Average total all civilian firearms\")"
   ]
  },
  {
   "cell_type": "markdown",
   "metadata": {},
   "source": [
    "### Caption: ._."
   ]
  },
  {
   "cell_type": "markdown",
   "metadata": {},
   "source": [
    "## plot the number of  mass shootings against the number of civilian firearms. plot the  US in a different color\n",
    "with and without errorbars\n"
   ]
  },
  {
   "cell_type": "code",
   "execution_count": null,
   "metadata": {
    "collapsed": false
   },
   "outputs": [],
   "source": [
    "fig, ax = plt.subplots()\n",
    "y = df_[\"Number of mass shootings\"]\n",
    "x = df_[\"Average total all civilian firearms\"]\n",
    "colors = ['b'] * (len(x) - 1) + ['r']\n",
    "ax.scatter(x, y, c=colors)\n",
    "\n",
    "# for some reason i cant pass in a list of colors to this one for the dots...\n",
    "ax.errorbar(x[:-1], y[:-1], \n",
    "            yerr = np.sqrt(y[:-1]), ecolor=colors[:-1], color='b', fmt = '.')\n",
    "ax.errorbar(x[-1:], y[-1:], \n",
    "            yerr = np.sqrt(y[-1:]), ecolor=colors[-1:], color='r', fmt = '.')\n",
    "ax.set_title(\"Number of mass shootings vs. Average Total of all civilian firearms\")\n",
    "ax.set_ylabel(\"Number of mass shootings\")\n",
    "ax.set_xlabel(\"Average Total of all civilian firearms\")"
   ]
  },
  {
   "cell_type": "markdown",
   "metadata": {},
   "source": [
    "### Caption: Welp..."
   ]
  },
  {
   "cell_type": "markdown",
   "metadata": {},
   "source": [
    "# Modeling\n",
    "\n",
    "## fit a line to the Number of mass shootings  per person as a function of Average total all civilian firearms per person. \n",
    "Before you do it it is a good idea to make sure that both quantities are roughly of the same order of magnitude (unity). (You can simply divide by the order of magnitude of the mean of the sample to obtain this). Use\n",
    "\n",
    "    - statsmodels OLS\n",
    "    "
   ]
  },
  {
   "cell_type": "code",
   "execution_count": null,
   "metadata": {
    "collapsed": false
   },
   "outputs": [],
   "source": [
    "import statsmodels.regression.linear_model as lm\n",
    "\n",
    "y = df_[\"Number of mass shootings\"] / df_[\"pop\"]\n",
    "x = df_[\"Average total all civilian firearms\"] / df_[\"pop\"]\n",
    "y_norm = (y - y.mean()) / y.std(ddof=1)\n",
    "x_norm = (x - x.mean()) / x.std(ddof=1)\n",
    "df_[\"x_norm\"] = x_norm\n",
    "df_[\"y_norm\"] = y_norm\n",
    "res = lm.OLS(y_norm, lm.add_constant(x_norm)).fit()\n",
    "print res.params\n",
    "plt.scatter(x_norm, y_norm)\n",
    "# just so red line doesnt get ugly\n",
    "xr = np.linspace(x_norm.min(), x_norm.max(), 10)\n",
    "plt.plot(xr, np.dot(lm.add_constant(xr), res.params), 'r--')\n",
    "plt.title(\"WLS Regression\")\n",
    "plt.xlabel(\"normalized number of guns / person\")\n",
    "plt.ylabel(\"normalized number of mass shootings / person\")\n",
    "res.summary()"
   ]
  },
  {
   "cell_type": "markdown",
   "metadata": {},
   "source": [
    "### Caption: The regression line runs through our scatterplot showing the predicted values. R^2 is .199"
   ]
  },
  {
   "cell_type": "markdown",
   "metadata": {},
   "source": [
    "    - statsmodels WLS   "
   ]
  },
  {
   "cell_type": "code",
   "execution_count": null,
   "metadata": {
    "collapsed": false
   },
   "outputs": [],
   "source": [
    "import statsmodels.regression.linear_model as lm\n",
    "\n",
    "#residuals = \n",
    "res = lm.WLS(y_norm, lm.add_constant(x_norm), weights= 1.0 / np.sqrt(np.abs(y_norm))).fit()\n",
    "\n",
    "# just so red line doesnt get ugly\n",
    "xr = np.linspace(x_norm.min(), x_norm.max(), 10)\n",
    "plt.scatter(x_norm, y_norm)\n",
    "plt.plot(xr, np.dot(lm.add_constant(xr), res.params), 'r--')\n",
    "plt.title(\"WLS Regression\")\n",
    "plt.xlabel(\"normalized number of guns / person\")\n",
    "plt.ylabel(\"normalized number of mass shootings / person\")\n",
    "res.summary()"
   ]
  },
  {
   "cell_type": "markdown",
   "metadata": {},
   "source": [
    "### Caption: looks the same, metrics are more interesting and this one does better"
   ]
  },
  {
   "cell_type": "markdown",
   "metadata": {},
   "source": [
    "    - seaborn\n",
    "    "
   ]
  },
  {
   "cell_type": "code",
   "execution_count": null,
   "metadata": {
    "collapsed": false,
    "scrolled": true
   },
   "outputs": [],
   "source": [
    "import seaborn  as sns\n",
    "ax = sns.regplot(x=\"x_norm\", y=\"y_norm\", data=df_);\n",
    "ax.set_title(\"Regression with seaborn\")\n",
    "ax.set_xlabel(\"normalized number of guns / person\")\n",
    "ax.set_ylabel(\"normalized number of mass shootings / person\")"
   ]
  },
  {
   "cell_type": "markdown",
   "metadata": {},
   "source": [
    "### Caption: ooh, pretty, but I guess seaborn and statsmodels agree? Confidence intervals discussed below."
   ]
  },
  {
   "cell_type": "markdown",
   "metadata": {},
   "source": [
    "choose one of\n",
    "- **creating a function that calculates the residuals and minimizing that function**\n",
    "- analytical solution http://mathworld.wolfram.com/LeastSquaresFitting.html\n",
    "- numpy.polyfit() - https://docs.scipy.org/doc/numpy-1.13.0/reference/generated/numpy.polyfit.html"
   ]
  },
  {
   "cell_type": "code",
   "execution_count": null,
   "metadata": {
    "collapsed": false
   },
   "outputs": [],
   "source": [
    "import scipy.optimize as opt\n",
    "def se(y_obs, x):\n",
    "    x_int = lm.add_constant(x)\n",
    "    return lambda w: np.sum((y_obs - np.dot(x_int, w)) ** 2)\n",
    "\n",
    "# v fast for our nice convex problem\n",
    "result = opt.minimize(se(y_norm, x_norm), np.array([.1, .1]), method='BFGS')\n",
    "# just for a nice dotted line\n",
    "xr = np.linspace(x_norm.min(), x_norm.max(), 10)\n",
    "plt.scatter(x_norm, y_norm)\n",
    "plt.plot(xr, np.dot(lm.add_constant(xr), result.x), 'r--')\n",
    "plt.title(\"regression by hand\")\n",
    "plt.xlabel(\"normalized number of guns / person\")\n",
    "plt.ylabel(\"normalized number of mass shootings / person\")"
   ]
  },
  {
   "cell_type": "markdown",
   "metadata": {},
   "source": [
    "### CAPTION: this visually validates that I did it right because it looks the same as the ones above."
   ]
  },
  {
   "cell_type": "markdown",
   "metadata": {},
   "source": [
    "WLS: that is the weighted square fit. The statsmodel package WLS function allows you to take the uncertainties of each data point into account when you fit your model. It takes the parameter weights, which is the inverse of your errors:\n",
    "weights = 1.0/df.yerror\n",
    "Notice that \n",
    "    a - sqrt(0) = 0\n",
    "    b - 1/0 = infinity\n",
    "    c - you cannot have weight that are infinity in your fit. Please come up with a solution and justify it.\n",
    "\n",
    "\n",
    "the latter three you can learn about in this example: https://github.com/fedhere/PUI2017_fb55/blob/master/Lab5_fb55/genderIncomeBias.ipynb\n",
    "Since we did not discuss these, I will add some notes to the repo in the afternoon.\n",
    "\n",
    "Use the seaborn python package built in regression function  to plot the regression confidence intervals. \n",
    "\n",
    "import seaborn  as sns\n",
    "sns.regplot(x=\"x\", y=\"y\", data=df);"
   ]
  },
  {
   "cell_type": "markdown",
   "metadata": {
    "ExecuteTime": {
     "end_time": "2017-10-12T16:21:08.019663",
     "start_time": "2017-10-12T16:21:08.010876"
    }
   },
   "source": [
    "## Extra credit: calculate the confidence interval by hand and also plot them \n",
    "you can use pylab.fill_between(x, yfit - ci, yfit + ci, alpha=0.5)"
   ]
  },
  {
   "cell_type": "markdown",
   "metadata": {},
   "source": [
    "**Confidence intervals: **\n",
    "there are three type of intervals in a linear regression, plot any one of them all three if you want - how do they compare to the seaborn plot?:\n",
    "\n",
    "1) Confidence intervals for the parameters slope and intercept\n",
    "\n",
    "2) Confidence interval for the average y value\n",
    "\n",
    "3) Prediction interval for a single y value"
   ]
  },
  {
   "cell_type": "markdown",
   "metadata": {},
   "source": [
    "1) __confidence interval of the  model parameters slope and intercept:__\n",
    "define sigma as the sum of the residuals over the square root of number n of observations. \n",
    "\n",
    "sigma: σ̂ =sqrt(Sum((Yoberved_i−Ypredicted_i)^2)/n)\n",
    "\n",
    "where the sum is over all observations\n",
    "\n",
    "Define t_alpha/2,n-2 the t statistics at (1-alpha/2) for a t distribution with n-2 degrees of freedom (you can calculate it with scipy\n",
    "tp = sp.stats.t.ppf(0.975, n-2)\n",
    "\n"
   ]
  },
  {
   "cell_type": "code",
   "execution_count": null,
   "metadata": {
    "collapsed": false
   },
   "outputs": [],
   "source": [
    "import scipy.stats\n",
    "\n",
    "res = lm.OLS(y_norm, lm.add_constant(x_norm)).fit()\n",
    "\n",
    "alpha = .05\n",
    "n = float(len(x_norm))\n",
    "squared_errors = np.sum((y_norm - res.predict())**2)\n",
    "sigma = np.sqrt(squared_errors / n)\n",
    "t = scipy.stats.t.ppf(.95, n - 2) \n",
    "slope_ci = t * sigma * np.sqrt(n) / (np.sqrt(n - 2 ) * squared_errors)\n",
    "int_ci = t * np.sqrt((sigma ** 2) / (n - 2))\n",
    "int_ci\n",
    "# lol\n",
    "print \"slope: [{1}, {0}]\".format(res.params[0] + slope_ci, res.params[0] - slope_ci)\n",
    "print \"intercept: [{1}, {0}]\".format(res.params[0] + int_ci, res.params[0] - int_ci)\n",
    "print \"I have an idea of how to plot this but it'd look dramatically different than the seaborn plot\""
   ]
  },
  {
   "cell_type": "code",
   "execution_count": null,
   "metadata": {
    "ExecuteTime": {
     "end_time": "2017-10-12T15:42:26.836222",
     "start_time": "2017-10-12T15:42:26.819963"
    },
    "collapsed": false
   },
   "outputs": [],
   "source": [
    "from IPython.display import Image\n",
    "Image(filename=\"../Lab5_fb55/confidence_intervals_regression.png\")"
   ]
  },
  {
   "cell_type": "code",
   "execution_count": null,
   "metadata": {
    "ExecuteTime": {
     "end_time": "2017-10-12T15:54:20.748008",
     "start_time": "2017-10-12T15:54:20.736381"
    },
    "collapsed": false
   },
   "outputs": [],
   "source": [
    "from IPython.display import Image\n",
    "Image(filename=\"../Lab5_fb55/confidence_intervals_regression2.png\")"
   ]
  },
  {
   "cell_type": "markdown",
   "metadata": {},
   "source": [
    "[proof](https://onlinecourses.science.psu.edu/stat414/node/280)"
   ]
  },
  {
   "cell_type": "markdown",
   "metadata": {},
   "source": [
    "2) **A confidence interval for E(y | x) , the expected (average) value of y for a given x_**\n",
    "\n",
    "define s: residual standard error sy = sqrt(Sum((y_observed-y_predicted)^2)/(n-2))\n",
    "\n",
    "(note: n-2 is the degrees of freedom of the problem: observations - number of parameters - 1)\n",
    "\n",
    "the confidence interval for a given y(x*) is: \n",
    "\n",
    "y_predicted(x*) +/- t_(alpha/2)(n-2) * sy * sqrt( 1/n + (x* - mean(x)^2) / sum((x* - mean(x)^2)"
   ]
  },
  {
   "cell_type": "code",
   "execution_count": null,
   "metadata": {
    "collapsed": false
   },
   "outputs": [],
   "source": [
    "t = scipy.stats.t.ppf(.95, n-2)\n",
    "# what is this \"other term?\" we just don't know\n",
    "mse = np.mean((res.predict() - y) ** 2)\n",
    "y_int_val = lambda x_k: t * np.sqrt(mse * ((1 / n) + (((x_k - x.mean())**2) / np.var(x))))\n",
    "xr = np.linspace(x_norm.min(), x_norm.max(), 15)\n",
    "ci = np.array([y_int_val(x_k) for x_k in xr])\n",
    "plt.scatter(x_norm, y_norm)\n",
    "pred = np.dot(lm.add_constant(xr), res.params)\n",
    "plt.plot(xr, pred)\n",
    "plt.fill_between(xr, pred - ci, pred + ci, alpha=0.5)\n",
    "plt.title(\"regression with CI #2\")\n",
    "plt.xlabel(\"normalized number of guns / person\")\n",
    "plt.ylabel(\"normalized number of mass shootings / person\")"
   ]
  },
  {
   "cell_type": "markdown",
   "metadata": {},
   "source": [
    "CAPTION: This looks similar to seaborn, but certainly not identical."
   ]
  },
  {
   "cell_type": "code",
   "execution_count": null,
   "metadata": {
    "ExecuteTime": {
     "end_time": "2017-10-12T16:09:14.173143",
     "start_time": "2017-10-12T16:09:14.161088"
    },
    "collapsed": false
   },
   "outputs": [],
   "source": [
    "from IPython.display import Image\n",
    "Image(filename=\"../Lab5_fb55/ciY.png\")"
   ]
  },
  {
   "cell_type": "markdown",
   "metadata": {},
   "source": [
    "3) **Confidence intervals for average y (predicted) values**\n",
    "\n",
    "y_predicted(x*) +/- t_(n-2) * sy * sqrt( 1 + 1/n + (x* - mean(x)^2) / sum((x* - mean(x)^2)\n",
    "\n",
    "very similar, but note the +1 in the square root"
   ]
  },
  {
   "cell_type": "code",
   "execution_count": null,
   "metadata": {
    "ExecuteTime": {
     "end_time": "2017-10-12T16:08:46.077157",
     "start_time": "2017-10-12T16:08:46.067407"
    },
    "collapsed": false
   },
   "outputs": [],
   "source": [
    "from IPython.display import Image\n",
    "Image(filename=\"../Lab5_fb55/ciYaverage.png\")"
   ]
  },
  {
   "cell_type": "code",
   "execution_count": null,
   "metadata": {
    "collapsed": false
   },
   "outputs": [],
   "source": [
    "t = scipy.stats.t.ppf(.95, n-2)\n",
    "# what is this \"other term?\" we just don't know\n",
    "mse = np.mean((res.predict() - y) ** 2)\n",
    "y_int_val = lambda x_k: t * np.sqrt(mse * (1. + (1. / n) + (((x_k - x.mean())**2) / np.var(x))))\n",
    "xr = np.linspace(x_norm.min(), x_norm.max(), 15)\n",
    "ci = np.array([y_int_val(x_k) for x_k in xr])\n",
    "plt.scatter(x_norm, y_norm)\n",
    "pred = np.dot(lm.add_constant(xr), res.params)\n",
    "plt.plot(xr, pred)\n",
    "plt.fill_between(xr, pred - ci, pred + ci, alpha=0.5)\n",
    "plt.title(\"regression with CI #3\")\n",
    "plt.xlabel(\"normalized number of guns / person\")\n",
    "plt.ylabel(\"normalized number of mass shootings / person\")"
   ]
  },
  {
   "cell_type": "markdown",
   "metadata": {},
   "source": [
    "CAPTION: I like that this one is a little less confident about the errors in the middle (near the X mean I suppose)"
   ]
  },
  {
   "cell_type": "code",
   "execution_count": null,
   "metadata": {
    "ExecuteTime": {
     "end_time": "2017-10-12T16:36:39.238967",
     "start_time": "2017-10-12T16:36:38.688004"
    },
    "collapsed": false
   },
   "outputs": [],
   "source": [
    "pl.figure()\n",
    "import seaborn  as sns\n",
    "sns.regplot(x=\"x_norm\", y=\"y_norm\", data=df_);\n",
    "\n",
    "pl.ylabel(\"Mass shootings\")\n",
    "pl.xlabel(\"Fire arms\");"
   ]
  },
  {
   "cell_type": "markdown",
   "metadata": {},
   "source": [
    "Though this plot was here before me, I'll remark that seaborn does some fancy bootstrapping stuff to generate its estimate."
   ]
  },
  {
   "cell_type": "markdown",
   "metadata": {},
   "source": [
    "## Use the stsatsmodels.gaphics package to plot the influence plot. \n",
    "Read the package documentation to learn how to read this plot and extract the countries with the highest influence\n",
    "\n",
    "This is the topic of this week's assigned reading, so make sure you do the reading before you do this step. It will help you interpret the plot."
   ]
  },
  {
   "cell_type": "code",
   "execution_count": null,
   "metadata": {
    "ExecuteTime": {
     "end_time": "2017-10-11T07:46:21.766085",
     "start_time": "2017-10-11T07:46:21.412498"
    },
    "collapsed": false,
    "scrolled": false
   },
   "outputs": [],
   "source": [
    "from statsmodels.graphics.regressionplots import influence_plot\n",
    "res = lm.OLS(y_norm, lm.add_constant(x_norm)).fit()\n",
    "er = influence_plot(res, alpha  = 0.05, criterion=\"cooks\")"
   ]
  },
  {
   "cell_type": "markdown",
   "metadata": {},
   "source": [
    "This was here before me, no caption"
   ]
  },
  {
   "cell_type": "markdown",
   "metadata": {},
   "source": [
    "## Extra credit: calculate from scratch the stanrdardized residuals and the H leverage for the WLS model and discuss if there are any differences"
   ]
  },
  {
   "cell_type": "code",
   "execution_count": null,
   "metadata": {
    "collapsed": false
   },
   "outputs": [],
   "source": [
    "res = lm.WLS(y_norm, lm.add_constant(x_norm), weights= 1.0 / np.sqrt(np.abs(y_norm))).fit()\n",
    "ses = (x_norm - x_norm.mean())**2\n",
    "leverages = (1 / n) + ses / np.sum(ses)\n",
    "residuals = y_norm - res.predict()\n",
    "residuals_standardized = residuals / np.std(residuals, ddof=1)\n",
    "\n",
    "plt.scatter(leverages, residuals)\n",
    "plt.xlabel(\"leverages\")\n",
    "plt.ylabel(\"standardized residuals\")\n",
    "plt.title(\"leverages vs. residuals, WLS\")"
   ]
  },
  {
   "cell_type": "markdown",
   "metadata": {},
   "source": [
    "## Discuss your findings"
   ]
  },
  {
   "cell_type": "markdown",
   "metadata": {
    "collapsed": true
   },
   "source": [
    "I standardized my residuals differently, but I think it's fine because they look pretty similar to the statsmodels plot. In general, I don't see any remarkable differences in the WLS plot, they look quite similar to me."
   ]
  },
  {
   "cell_type": "code",
   "execution_count": null,
   "metadata": {
    "collapsed": true
   },
   "outputs": [],
   "source": []
  },
  {
   "cell_type": "code",
   "execution_count": null,
   "metadata": {
    "collapsed": true
   },
   "outputs": [],
   "source": []
  }
 ],
 "metadata": {
  "anaconda-cloud": {},
  "kernelspec": {
   "display_name": "Python 2",
   "language": "python",
   "name": "python2"
  },
  "language_info": {
   "codemirror_mode": {
    "name": "ipython",
    "version": 2
   },
   "file_extension": ".py",
   "mimetype": "text/x-python",
   "name": "python",
   "nbconvert_exporter": "python",
   "pygments_lexer": "ipython2",
   "version": "2.7.11"
  },
  "latex_envs": {
   "LaTeX_envs_menu_present": true,
   "bibliofile": "biblio.bib",
   "cite_by": "apalike",
   "current_citInitial": 1,
   "eqLabelWithNumbers": true,
   "eqNumInitial": 1,
   "hotkeys": {
    "equation": "Ctrl-E",
    "itemize": "Ctrl-I"
   },
   "labels_anchors": false,
   "latex_user_defs": false,
   "report_style_numbering": false,
   "user_envs_cfg": false
  },
  "toc": {
   "colors": {
    "hover_highlight": "#DAA520",
    "running_highlight": "#FF0000",
    "selected_highlight": "#FFD700"
   },
   "moveMenuLeft": true,
   "nav_menu": {
    "height": "13px",
    "width": "251px"
   },
   "navigate_menu": true,
   "number_sections": true,
   "sideBar": true,
   "threshold": 4,
   "toc_cell": true,
   "toc_section_display": "block",
   "toc_window_display": true
  }
 },
 "nbformat": 4,
 "nbformat_minor": 1
}

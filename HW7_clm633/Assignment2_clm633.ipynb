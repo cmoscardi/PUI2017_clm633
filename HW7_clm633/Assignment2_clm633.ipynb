{
 "cells": [
  {
   "cell_type": "markdown",
   "metadata": {},
   "source": [
    "## Assignment 2: Set up the work for data-driven inference based on CitiBike data. You should, even more than usual, work in groups for this!\n",
    "\n",
    "### I developed an example [here](https://github.com/fedhere/PUI2016_fb55/blob/master/HW3_fb55/citibikes_gender.ipynb)\n",
    "\n",
    "  \n",
    "Work on [compute](https://github.com/fedhere/PUI2016_fb55/blob/master/computationalResources.md). \n",
    "Choose a citibikes [dataset within the CUSP data facility (DF)](https://datahub.cusp.nyu.edu/dataset).\n",
    "\n",
    "\n",
    "### GRADING: \n",
    "\n",
    "Your notebook must display\n",
    "- the complete formulation of the hypothesis to be tested\n",
    "- the data tables for the unreducted datasets (first few columns)\n",
    "- the data tables for the reducted datasets (first few columns)\n",
    "- the plots for each dataframe, with usual rules for plotting applying: visible and readable axes, title, legend, caption. \n"
   ]
  },
  {
   "cell_type": "markdown",
   "metadata": {},
   "source": [
    "1. Fire off a Jupyter notebook with Jupyter Hub --[here](https://datahub.cusp.nyu.edu/documents/guides/Jupyter_Notebook_from_your_browser_Mac.pdf) for Mac and Linux and [here](https://datahub.cusp.nyu.edu/documents/guides/Jupyter_Notebook_from_your_browser_Windows.pdf) for Windows--\n",
    "and switch to the Kernel PUI2016_Python2 or PUI2016_Python3 from the Jupyter dropdown menu under Kernels -> Change Kernel.\n",
    "\n",
    "   Write a Jupyter Notebook on compute. This will require you to use the JupyterHub ([instructions here](https://datahub.cusp.nyu.edu/documents/guides/Jupyter_Notebook_from_your_browser_Mac.pdf) ). Write a notebook that:\n",
    "\n",
    "2. States the question you want to ask, and formulates the Null and Alternative hypothesis (remember the confidence level!)\n",
    "\n",
    "\n",
    "## The Question\n",
    "Does the trip duration vary with gender on citibike trips?\n",
    "\n",
    "Null hypothesis: The mean trip duration among males is the same as the mean duration among females for 2017 January - July (latest on cusp DF).\n",
    "\n",
    "Alternative hypothesis: The mean trip duration is not the same among males and females (in the same timeframe).\n",
    "\n",
    "Confidence level: 5%."
   ]
  },
  {
   "cell_type": "markdown",
   "metadata": {},
   "source": [
    "3. Use pandas to read in the CitiBike files, either from the DF, or locally, but you must be able to download them on the spot (so the TA can reproduce your work). \n"
   ]
  },
  {
   "cell_type": "code",
   "execution_count": 1,
   "metadata": {
    "collapsed": false
   },
   "outputs": [
    {
     "name": "stdout",
     "output_type": "stream",
     "text": [
      "['/gws/open/Student/citibike/201701-citibike-tripdata.csv.zip', '/gws/open/Student/citibike/201702-citibike-tripdata.csv.zip', '/gws/open/Student/citibike/201703-citibike-tripdata.csv.zip', '/gws/open/Student/citibike/201704-citibike-tripdata.csv.zip', '/gws/open/Student/citibike/201705-citibike-tripdata.csv.zip', '/gws/open/Student/citibike/201706-citibike-tripdata.csv.zip', '/gws/open/Student/citibike/201707-citibike-tripdata.csv.zip']\n"
     ]
    },
    {
     "ename": "Exception",
     "evalue": "",
     "output_type": "error",
     "traceback": [
      "\u001b[1;31m---------------------------------------------------------------------------\u001b[0m",
      "\u001b[1;31mException\u001b[0m                                 Traceback (most recent call last)",
      "\u001b[1;32m<ipython-input-1-6d32d29df335>\u001b[0m in \u001b[0;36m<module>\u001b[1;34m()\u001b[0m\n\u001b[0;32m      9\u001b[0m \u001b[0mdata_2017\u001b[0m \u001b[1;33m=\u001b[0m \u001b[0mglob\u001b[0m\u001b[1;33m.\u001b[0m\u001b[0mglob\u001b[0m\u001b[1;33m(\u001b[0m\u001b[0mDIR\u001b[0m \u001b[1;33m+\u001b[0m \u001b[1;34m\"*2017*\"\u001b[0m\u001b[1;33m)\u001b[0m\u001b[1;33m\u001b[0m\u001b[0m\n\u001b[0;32m     10\u001b[0m \u001b[1;32mprint\u001b[0m \u001b[0mdata_2017\u001b[0m\u001b[1;33m\u001b[0m\u001b[0m\n\u001b[1;32m---> 11\u001b[1;33m \u001b[1;32mraise\u001b[0m \u001b[0mException\u001b[0m\u001b[1;33m\u001b[0m\u001b[0m\n\u001b[0m\u001b[0;32m     12\u001b[0m \u001b[0mfs\u001b[0m \u001b[1;33m=\u001b[0m \u001b[1;33m[\u001b[0m\u001b[0mopen\u001b[0m\u001b[1;33m(\u001b[0m\u001b[0mfname\u001b[0m\u001b[1;33m)\u001b[0m \u001b[1;32mfor\u001b[0m \u001b[0mfname\u001b[0m \u001b[1;32min\u001b[0m \u001b[0mdata_2017\u001b[0m\u001b[1;33m]\u001b[0m\u001b[1;33m\u001b[0m\u001b[0m\n\u001b[0;32m     13\u001b[0m \u001b[0mzfs\u001b[0m \u001b[1;33m=\u001b[0m \u001b[1;33m[\u001b[0m\u001b[0mzipfile\u001b[0m\u001b[1;33m.\u001b[0m\u001b[0mZipFile\u001b[0m\u001b[1;33m(\u001b[0m\u001b[0mf\u001b[0m\u001b[1;33m)\u001b[0m \u001b[1;32mfor\u001b[0m \u001b[0mf\u001b[0m \u001b[1;32min\u001b[0m \u001b[0mfs\u001b[0m\u001b[1;33m]\u001b[0m\u001b[1;33m\u001b[0m\u001b[0m\n",
      "\u001b[1;31mException\u001b[0m: "
     ]
    }
   ],
   "source": [
    "import glob\n",
    "import zipfile\n",
    "\n",
    "import pandas as pd\n",
    "\n",
    "# lightly adapted from something that i wrote: \n",
    "# https://github.com/thedataincubator/practical-ml/blob/master/anomaly/anomaly1.ipynb\n",
    "DIR = \"/gws/open/Student/citibike/\"\n",
    "data_2017 = glob.glob(DIR + \"*2017*\")\n",
    "print data_2017\n",
    "fs = [open(fname) for fname in data_2017]\n",
    "zfs = [zipfile.ZipFile(f) for f in fs]\n",
    "\n",
    "# NOTE: I should do more and better cleaning.\n",
    "# But I only care about tripduration and gender for this notebook.\n",
    "def parse_csv(zf):\n",
    "    df = pd.read_csv(zf.open(zf.namelist()[0]))\n",
    "    df.columns = df.columns.str.lower()\n",
    "    if \"trip duration\" in df:\n",
    "        df[\"tripduration\"] = df[\"trip duration\"]\n",
    "        del df[\"trip duration\"]\n",
    "    return df\n",
    "\n",
    "dfs = pd.concat(parse_csv(zf) for zf in zfs)\n",
    "[zf.close() for zf in zfs]\n",
    "[f.close() for f in fs]\n",
    "df = dfs"
   ]
  },
  {
   "cell_type": "markdown",
   "metadata": {},
   "source": [
    "3. Display the top few rows of the DF in your notebook. This table __must be rendered__."
   ]
  },
  {
   "cell_type": "code",
   "execution_count": 2,
   "metadata": {
    "collapsed": false
   },
   "outputs": [
    {
     "data": {
      "text/html": [
       "<div>\n",
       "<table border=\"1\" class=\"dataframe\">\n",
       "  <thead>\n",
       "    <tr style=\"text-align: right;\">\n",
       "      <th></th>\n",
       "      <th>bike id</th>\n",
       "      <th>bikeid</th>\n",
       "      <th>birth year</th>\n",
       "      <th>end station id</th>\n",
       "      <th>end station latitude</th>\n",
       "      <th>end station longitude</th>\n",
       "      <th>end station name</th>\n",
       "      <th>gender</th>\n",
       "      <th>start station id</th>\n",
       "      <th>start station latitude</th>\n",
       "      <th>start station longitude</th>\n",
       "      <th>start station name</th>\n",
       "      <th>start time</th>\n",
       "      <th>starttime</th>\n",
       "      <th>stop time</th>\n",
       "      <th>stoptime</th>\n",
       "      <th>tripduration</th>\n",
       "      <th>user type</th>\n",
       "      <th>usertype</th>\n",
       "    </tr>\n",
       "  </thead>\n",
       "  <tbody>\n",
       "    <tr>\n",
       "      <th>0</th>\n",
       "      <td>25542.0</td>\n",
       "      <td>NaN</td>\n",
       "      <td>1965.0</td>\n",
       "      <td>3165</td>\n",
       "      <td>40.775794</td>\n",
       "      <td>-73.976206</td>\n",
       "      <td>Central Park West &amp; W 72 St</td>\n",
       "      <td>2</td>\n",
       "      <td>3226</td>\n",
       "      <td>40.782750</td>\n",
       "      <td>-73.971370</td>\n",
       "      <td>W 82 St &amp; Central Park West</td>\n",
       "      <td>2017-01-01 00:00:21</td>\n",
       "      <td>NaN</td>\n",
       "      <td>2017-01-01 00:11:41</td>\n",
       "      <td>NaN</td>\n",
       "      <td>680</td>\n",
       "      <td>Subscriber</td>\n",
       "      <td>NaN</td>\n",
       "    </tr>\n",
       "    <tr>\n",
       "      <th>1</th>\n",
       "      <td>21136.0</td>\n",
       "      <td>NaN</td>\n",
       "      <td>1987.0</td>\n",
       "      <td>498</td>\n",
       "      <td>40.748549</td>\n",
       "      <td>-73.988084</td>\n",
       "      <td>Broadway &amp; W 32 St</td>\n",
       "      <td>2</td>\n",
       "      <td>3263</td>\n",
       "      <td>40.729236</td>\n",
       "      <td>-73.990868</td>\n",
       "      <td>Cooper Square &amp; E 7 St</td>\n",
       "      <td>2017-01-01 00:00:45</td>\n",
       "      <td>NaN</td>\n",
       "      <td>2017-01-01 00:22:08</td>\n",
       "      <td>NaN</td>\n",
       "      <td>1282</td>\n",
       "      <td>Subscriber</td>\n",
       "      <td>NaN</td>\n",
       "    </tr>\n",
       "    <tr>\n",
       "      <th>2</th>\n",
       "      <td>18147.0</td>\n",
       "      <td>NaN</td>\n",
       "      <td>NaN</td>\n",
       "      <td>3152</td>\n",
       "      <td>40.768737</td>\n",
       "      <td>-73.961199</td>\n",
       "      <td>3 Ave &amp; E 71 St</td>\n",
       "      <td>0</td>\n",
       "      <td>3143</td>\n",
       "      <td>40.776829</td>\n",
       "      <td>-73.963888</td>\n",
       "      <td>5 Ave &amp; E 78 St</td>\n",
       "      <td>2017-01-01 00:00:57</td>\n",
       "      <td>NaN</td>\n",
       "      <td>2017-01-01 00:11:46</td>\n",
       "      <td>NaN</td>\n",
       "      <td>648</td>\n",
       "      <td>Customer</td>\n",
       "      <td>NaN</td>\n",
       "    </tr>\n",
       "    <tr>\n",
       "      <th>3</th>\n",
       "      <td>21211.0</td>\n",
       "      <td>NaN</td>\n",
       "      <td>NaN</td>\n",
       "      <td>3152</td>\n",
       "      <td>40.768737</td>\n",
       "      <td>-73.961199</td>\n",
       "      <td>3 Ave &amp; E 71 St</td>\n",
       "      <td>0</td>\n",
       "      <td>3143</td>\n",
       "      <td>40.776829</td>\n",
       "      <td>-73.963888</td>\n",
       "      <td>5 Ave &amp; E 78 St</td>\n",
       "      <td>2017-01-01 00:01:10</td>\n",
       "      <td>NaN</td>\n",
       "      <td>2017-01-01 00:11:42</td>\n",
       "      <td>NaN</td>\n",
       "      <td>631</td>\n",
       "      <td>Customer</td>\n",
       "      <td>NaN</td>\n",
       "    </tr>\n",
       "    <tr>\n",
       "      <th>4</th>\n",
       "      <td>26819.0</td>\n",
       "      <td>NaN</td>\n",
       "      <td>NaN</td>\n",
       "      <td>3152</td>\n",
       "      <td>40.768737</td>\n",
       "      <td>-73.961199</td>\n",
       "      <td>3 Ave &amp; E 71 St</td>\n",
       "      <td>0</td>\n",
       "      <td>3143</td>\n",
       "      <td>40.776829</td>\n",
       "      <td>-73.963888</td>\n",
       "      <td>5 Ave &amp; E 78 St</td>\n",
       "      <td>2017-01-01 00:01:25</td>\n",
       "      <td>NaN</td>\n",
       "      <td>2017-01-01 00:11:47</td>\n",
       "      <td>NaN</td>\n",
       "      <td>621</td>\n",
       "      <td>Customer</td>\n",
       "      <td>NaN</td>\n",
       "    </tr>\n",
       "  </tbody>\n",
       "</table>\n",
       "</div>"
      ],
      "text/plain": [
       "   bike id  bikeid  birth year  end station id  end station latitude  \\\n",
       "0  25542.0     NaN      1965.0            3165             40.775794   \n",
       "1  21136.0     NaN      1987.0             498             40.748549   \n",
       "2  18147.0     NaN         NaN            3152             40.768737   \n",
       "3  21211.0     NaN         NaN            3152             40.768737   \n",
       "4  26819.0     NaN         NaN            3152             40.768737   \n",
       "\n",
       "   end station longitude             end station name  gender  \\\n",
       "0             -73.976206  Central Park West & W 72 St       2   \n",
       "1             -73.988084           Broadway & W 32 St       2   \n",
       "2             -73.961199              3 Ave & E 71 St       0   \n",
       "3             -73.961199              3 Ave & E 71 St       0   \n",
       "4             -73.961199              3 Ave & E 71 St       0   \n",
       "\n",
       "   start station id  start station latitude  start station longitude  \\\n",
       "0              3226               40.782750               -73.971370   \n",
       "1              3263               40.729236               -73.990868   \n",
       "2              3143               40.776829               -73.963888   \n",
       "3              3143               40.776829               -73.963888   \n",
       "4              3143               40.776829               -73.963888   \n",
       "\n",
       "            start station name           start time starttime  \\\n",
       "0  W 82 St & Central Park West  2017-01-01 00:00:21       NaN   \n",
       "1       Cooper Square & E 7 St  2017-01-01 00:00:45       NaN   \n",
       "2              5 Ave & E 78 St  2017-01-01 00:00:57       NaN   \n",
       "3              5 Ave & E 78 St  2017-01-01 00:01:10       NaN   \n",
       "4              5 Ave & E 78 St  2017-01-01 00:01:25       NaN   \n",
       "\n",
       "             stop time stoptime  tripduration   user type usertype  \n",
       "0  2017-01-01 00:11:41      NaN           680  Subscriber      NaN  \n",
       "1  2017-01-01 00:22:08      NaN          1282  Subscriber      NaN  \n",
       "2  2017-01-01 00:11:46      NaN           648    Customer      NaN  \n",
       "3  2017-01-01 00:11:42      NaN           631    Customer      NaN  \n",
       "4  2017-01-01 00:11:47      NaN           621    Customer      NaN  "
      ]
     },
     "execution_count": 2,
     "metadata": {},
     "output_type": "execute_result"
    }
   ],
   "source": [
    "df.head()"
   ]
  },
  {
   "cell_type": "markdown",
   "metadata": {},
   "source": [
    "5. Display the reducted dataframe. This table __must be rendered__."
   ]
  },
  {
   "cell_type": "code",
   "execution_count": 3,
   "metadata": {
    "collapsed": false
   },
   "outputs": [
    {
     "data": {
      "text/html": [
       "<div>\n",
       "<table border=\"1\" class=\"dataframe\">\n",
       "  <thead>\n",
       "    <tr style=\"text-align: right;\">\n",
       "      <th></th>\n",
       "      <th>gender</th>\n",
       "      <th>tripduration</th>\n",
       "    </tr>\n",
       "  </thead>\n",
       "  <tbody>\n",
       "    <tr>\n",
       "      <th>0</th>\n",
       "      <td>2</td>\n",
       "      <td>680</td>\n",
       "    </tr>\n",
       "    <tr>\n",
       "      <th>1</th>\n",
       "      <td>2</td>\n",
       "      <td>1282</td>\n",
       "    </tr>\n",
       "    <tr>\n",
       "      <th>5</th>\n",
       "      <td>1</td>\n",
       "      <td>666</td>\n",
       "    </tr>\n",
       "    <tr>\n",
       "      <th>6</th>\n",
       "      <td>1</td>\n",
       "      <td>559</td>\n",
       "    </tr>\n",
       "    <tr>\n",
       "      <th>7</th>\n",
       "      <td>2</td>\n",
       "      <td>826</td>\n",
       "    </tr>\n",
       "  </tbody>\n",
       "</table>\n",
       "</div>"
      ],
      "text/plain": [
       "   gender  tripduration\n",
       "0       2           680\n",
       "1       2          1282\n",
       "5       1           666\n",
       "6       1           559\n",
       "7       2           826"
      ]
     },
     "execution_count": 3,
     "metadata": {},
     "output_type": "execute_result"
    }
   ],
   "source": [
    "# thanks for the quantile tip, matt\n",
    "reducted = df[[\"gender\", \"tripduration\"]]\n",
    "q = reducted[reducted[\"gender\"] != 0][\"tripduration\"].quantile(.99) # per citibike docs\n",
    "reducted = reducted[(reducted[\"gender\"] != 0) & (reducted[\"tripduration\"] < q)]\n",
    "reducted.head()"
   ]
  },
  {
   "cell_type": "markdown",
   "metadata": {},
   "source": [
    "6. Plot your data distributions."
   ]
  },
  {
   "cell_type": "code",
   "execution_count": 4,
   "metadata": {
    "collapsed": false
   },
   "outputs": [
    {
     "name": "stderr",
     "output_type": "stream",
     "text": [
      "/opt/rh/anaconda/root/envs/PUI2016_Python2/lib/python2.7/site-packages/IPython/html.py:14: ShimWarning: The `IPython.html` package has been deprecated. You should import from `notebook` instead. `IPython.html.widgets` has moved to `ipywidgets`.\n",
      "  \"`IPython.html.widgets` has moved to `ipywidgets`.\", ShimWarning)\n"
     ]
    }
   ],
   "source": [
    "import seaborn as sns\n",
    "import matplotlib.pyplot as plt\n",
    "%matplotlib inline"
   ]
  },
  {
   "cell_type": "code",
   "execution_count": 5,
   "metadata": {
    "collapsed": false
   },
   "outputs": [
    {
     "data": {
      "text/plain": [
       "<matplotlib.text.Text at 0x7f39acdfddd0>"
      ]
     },
     "execution_count": 5,
     "metadata": {},
     "output_type": "execute_result"
    },
    {
     "data": {
      "image/png": "[encoded data removed]",
      "text/plain": [
       "<matplotlib.figure.Figure at 0x7f39acdd0510>"
      ]
     },
     "metadata": {},
     "output_type": "display_data"
    }
   ],
   "source": [
    "males = reducted[reducted[\"gender\"] == 1][\"tripduration\"]\n",
    "females = reducted[reducted[\"gender\"] == 2][\"tripduration\"]\n",
    "ax = males.hist(label=\"males\")\n",
    "females.hist(ax=ax, label=\"females\")\n",
    "ax.legend()\n",
    "ax.set_title(\"tripduration of male + female ridership samples, 2017 YTD\")\n",
    "ax.set_xlabel(\"trip duration (seconds)\")"
   ]
  },
  {
   "cell_type": "markdown",
   "metadata": {},
   "source": [
    "#### Caption\n",
    "These are raw counts, not normalized, but we can still see that the distributions are quite similar (incl. a similar looking mean). From this plot I would **not** expect to reject the null hypothesis... but, as we'll see, the plot is just not granular enough."
   ]
  }
 ],
 "metadata": {
  "kernelspec": {
   "display_name": "Python 2",
   "language": "python",
   "name": "python2"
  },
  "language_info": {
   "codemirror_mode": {
    "name": "ipython",
    "version": 2
   },
   "file_extension": ".py",
   "mimetype": "text/x-python",
   "name": "python",
   "nbconvert_exporter": "python",
   "pygments_lexer": "ipython2",
   "version": "2.7.11"
  }
 },
 "nbformat": 4,
 "nbformat_minor": 0
}

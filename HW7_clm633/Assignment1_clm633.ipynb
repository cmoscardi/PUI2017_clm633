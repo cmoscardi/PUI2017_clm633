{
 "cells": [
  {
   "cell_type": "markdown",
   "metadata": {},
   "source": [
    "## Assignment 2: Set up the work for data-driven inference based on CitiBike data. You should, even more than usual, work in groups for this!\n",
    "\n",
    "### I developed an example [here](https://github.com/fedhere/PUI2016_fb55/blob/master/HW3_fb55/citibikes_gender.ipynb)\n",
    "\n",
    "  \n",
    "Work on [compute](https://github.com/fedhere/PUI2016_fb55/blob/master/computationalResources.md). \n",
    "Choose a citibikes [dataset within the CUSP data facility (DF)](https://datahub.cusp.nyu.edu/dataset).\n",
    "\n",
    "\n",
    "### GRADING: \n",
    "\n",
    "Your notebook must display\n",
    "- the complete formulation of the hypothesis to be tested\n",
    "- the data tables for the unreducted datasets (first few columns)\n",
    "- the data tables for the reducted datasets (first few columns)\n",
    "- the plots for each dataframe, with usual rules for plotting applying: visible and readable axes, title, legend, caption. \n"
   ]
  },
  {
   "cell_type": "markdown",
   "metadata": {},
   "source": [
    "1. Fire off a Jupyter notebook with Jupyter Hub --[here](https://datahub.cusp.nyu.edu/documents/guides/Jupyter_Notebook_from_your_browser_Mac.pdf) for Mac and Linux and [here](https://datahub.cusp.nyu.edu/documents/guides/Jupyter_Notebook_from_your_browser_Windows.pdf) for Windows--\n",
    "and switch to the Kernel PUI2016_Python2 or PUI2016_Python3 from the Jupyter dropdown menu under Kernels -> Change Kernel.\n",
    "\n",
    "   Write a Jupyter Notebook on compute. This will require you to use the JupyterHub ([instructions here](https://datahub.cusp.nyu.edu/documents/guides/Jupyter_Notebook_from_your_browser_Mac.pdf) ). Write a notebook that:\n",
    "\n",
    "2. States the question you want to ask, and formulates the Null and Alternative hypothesis (remember the confidence level!)\n",
    "\n",
    "\n",
    "## The Question\n",
    "Does the trip duration vary with gender on citibike trips?\n",
    "\n",
    "Null hypothesis: The mean trip duration among males is the same as the mean duration among females for 2017 January - July (latest on cusp DF).\n",
    "\n",
    "Alternative hypothesis: The mean trip duration is not the same among males and females (in the same timeframe).\n",
    "\n",
    "Confidence level: 5%."
   ]
  },
  {
   "cell_type": "markdown",
   "metadata": {},
   "source": [
    "3. Use pandas to read in the CitiBike files, either from the DF, or locally, but you must be able to download them on the spot (so the TA can reproduce your work). \n"
   ]
  },
  {
   "cell_type": "code",
   "execution_count": 13,
   "metadata": {
    "collapsed": false
   },
   "outputs": [
    {
     "name": "stdout",
     "output_type": "stream",
     "text": [
      "['/gws/open/Student/citibike/201701-citibike-tripdata.csv.zip', '/gws/open/Student/citibike/201702-citibike-tripdata.csv.zip', '/gws/open/Student/citibike/201703-citibike-tripdata.csv.zip', '/gws/open/Student/citibike/201704-citibike-tripdata.csv.zip', '/gws/open/Student/citibike/201705-citibike-tripdata.csv.zip', '/gws/open/Student/citibike/201706-citibike-tripdata.csv.zip', '/gws/open/Student/citibike/201707-citibike-tripdata.csv.zip']\n"
     ]
    }
   ],
   "source": [
    "import glob\n",
    "import zipfile\n",
    "\n",
    "import matplotlib.pyplot as plt\n",
    "import numpy as np\n",
    "import pandas as pd\n",
    "import scipy.stats\n",
    "import seaborn as sns\n",
    "\n",
    "%matplotlib inline\n",
    "\n",
    "\n",
    "# lightly adapted from something that i wrote: \n",
    "# https://github.com/thedataincubator/practical-ml/blob/master/anomaly/anomaly1.ipynb\n",
    "DIR = \"/gws/open/Student/citibike/\"\n",
    "data_2017 = glob.glob(DIR + \"*2017*\")\n",
    "print data_2017\n",
    "fs = [open(fname) for fname in data_2017]\n",
    "zfs = [zipfile.ZipFile(f) for f in fs]\n",
    "\n",
    "# NOTE: I should do more and better cleaning.\n",
    "# But I only care about tripduration and gender for this notebook.\n",
    "def parse_csv(zf):\n",
    "    df = pd.read_csv(zf.open(zf.namelist()[0]))\n",
    "    df.columns = df.columns.str.lower()\n",
    "    if \"trip duration\" in df:\n",
    "        df[\"tripduration\"] = df[\"trip duration\"]\n",
    "        del df[\"trip duration\"]\n",
    "    return df\n",
    "\n",
    "dfs = pd.concat(parse_csv(zf) for zf in zfs)\n",
    "[zf.close() for zf in zfs]\n",
    "[f.close() for f in fs]\n",
    "df = dfs"
   ]
  },
  {
   "cell_type": "markdown",
   "metadata": {},
   "source": [
    "3. Display the top few rows of the DF in your notebook. This table __must be rendered__."
   ]
  },
  {
   "cell_type": "code",
   "execution_count": 14,
   "metadata": {
    "collapsed": false
   },
   "outputs": [
    {
     "name": "stdout",
     "output_type": "stream",
     "text": [
      "0.105626114013\n"
     ]
    },
    {
     "data": {
      "text/html": [
       "<div>\n",
       "<style>\n",
       "    .dataframe thead tr:only-child th {\n",
       "        text-align: right;\n",
       "    }\n",
       "\n",
       "    .dataframe thead th {\n",
       "        text-align: left;\n",
       "    }\n",
       "\n",
       "    .dataframe tbody tr th {\n",
       "        vertical-align: top;\n",
       "    }\n",
       "</style>\n",
       "<table border=\"1\" class=\"dataframe\">\n",
       "  <thead>\n",
       "    <tr style=\"text-align: right;\">\n",
       "      <th></th>\n",
       "      <th>bike id</th>\n",
       "      <th>bikeid</th>\n",
       "      <th>birth year</th>\n",
       "      <th>end station id</th>\n",
       "      <th>end station latitude</th>\n",
       "      <th>end station longitude</th>\n",
       "      <th>end station name</th>\n",
       "      <th>gender</th>\n",
       "      <th>start station id</th>\n",
       "      <th>start station latitude</th>\n",
       "      <th>start station longitude</th>\n",
       "      <th>start station name</th>\n",
       "      <th>start time</th>\n",
       "      <th>starttime</th>\n",
       "      <th>stop time</th>\n",
       "      <th>stoptime</th>\n",
       "      <th>tripduration</th>\n",
       "      <th>user type</th>\n",
       "      <th>usertype</th>\n",
       "    </tr>\n",
       "  </thead>\n",
       "  <tbody>\n",
       "    <tr>\n",
       "      <th>0</th>\n",
       "      <td>25542.0</td>\n",
       "      <td>NaN</td>\n",
       "      <td>1965.0</td>\n",
       "      <td>3165</td>\n",
       "      <td>40.775794</td>\n",
       "      <td>-73.976206</td>\n",
       "      <td>Central Park West &amp; W 72 St</td>\n",
       "      <td>2</td>\n",
       "      <td>3226</td>\n",
       "      <td>40.782750</td>\n",
       "      <td>-73.971370</td>\n",
       "      <td>W 82 St &amp; Central Park West</td>\n",
       "      <td>2017-01-01 00:00:21</td>\n",
       "      <td>NaN</td>\n",
       "      <td>2017-01-01 00:11:41</td>\n",
       "      <td>NaN</td>\n",
       "      <td>680</td>\n",
       "      <td>Subscriber</td>\n",
       "      <td>NaN</td>\n",
       "    </tr>\n",
       "    <tr>\n",
       "      <th>1</th>\n",
       "      <td>21136.0</td>\n",
       "      <td>NaN</td>\n",
       "      <td>1987.0</td>\n",
       "      <td>498</td>\n",
       "      <td>40.748549</td>\n",
       "      <td>-73.988084</td>\n",
       "      <td>Broadway &amp; W 32 St</td>\n",
       "      <td>2</td>\n",
       "      <td>3263</td>\n",
       "      <td>40.729236</td>\n",
       "      <td>-73.990868</td>\n",
       "      <td>Cooper Square &amp; E 7 St</td>\n",
       "      <td>2017-01-01 00:00:45</td>\n",
       "      <td>NaN</td>\n",
       "      <td>2017-01-01 00:22:08</td>\n",
       "      <td>NaN</td>\n",
       "      <td>1282</td>\n",
       "      <td>Subscriber</td>\n",
       "      <td>NaN</td>\n",
       "    </tr>\n",
       "    <tr>\n",
       "      <th>2</th>\n",
       "      <td>18147.0</td>\n",
       "      <td>NaN</td>\n",
       "      <td>NaN</td>\n",
       "      <td>3152</td>\n",
       "      <td>40.768737</td>\n",
       "      <td>-73.961199</td>\n",
       "      <td>3 Ave &amp; E 71 St</td>\n",
       "      <td>0</td>\n",
       "      <td>3143</td>\n",
       "      <td>40.776829</td>\n",
       "      <td>-73.963888</td>\n",
       "      <td>5 Ave &amp; E 78 St</td>\n",
       "      <td>2017-01-01 00:00:57</td>\n",
       "      <td>NaN</td>\n",
       "      <td>2017-01-01 00:11:46</td>\n",
       "      <td>NaN</td>\n",
       "      <td>648</td>\n",
       "      <td>Customer</td>\n",
       "      <td>NaN</td>\n",
       "    </tr>\n",
       "    <tr>\n",
       "      <th>3</th>\n",
       "      <td>21211.0</td>\n",
       "      <td>NaN</td>\n",
       "      <td>NaN</td>\n",
       "      <td>3152</td>\n",
       "      <td>40.768737</td>\n",
       "      <td>-73.961199</td>\n",
       "      <td>3 Ave &amp; E 71 St</td>\n",
       "      <td>0</td>\n",
       "      <td>3143</td>\n",
       "      <td>40.776829</td>\n",
       "      <td>-73.963888</td>\n",
       "      <td>5 Ave &amp; E 78 St</td>\n",
       "      <td>2017-01-01 00:01:10</td>\n",
       "      <td>NaN</td>\n",
       "      <td>2017-01-01 00:11:42</td>\n",
       "      <td>NaN</td>\n",
       "      <td>631</td>\n",
       "      <td>Customer</td>\n",
       "      <td>NaN</td>\n",
       "    </tr>\n",
       "    <tr>\n",
       "      <th>4</th>\n",
       "      <td>26819.0</td>\n",
       "      <td>NaN</td>\n",
       "      <td>NaN</td>\n",
       "      <td>3152</td>\n",
       "      <td>40.768737</td>\n",
       "      <td>-73.961199</td>\n",
       "      <td>3 Ave &amp; E 71 St</td>\n",
       "      <td>0</td>\n",
       "      <td>3143</td>\n",
       "      <td>40.776829</td>\n",
       "      <td>-73.963888</td>\n",
       "      <td>5 Ave &amp; E 78 St</td>\n",
       "      <td>2017-01-01 00:01:25</td>\n",
       "      <td>NaN</td>\n",
       "      <td>2017-01-01 00:11:47</td>\n",
       "      <td>NaN</td>\n",
       "      <td>621</td>\n",
       "      <td>Customer</td>\n",
       "      <td>NaN</td>\n",
       "    </tr>\n",
       "  </tbody>\n",
       "</table>\n",
       "</div>"
      ],
      "text/plain": [
       "   bike id  bikeid  birth year  end station id  end station latitude  \\\n",
       "0  25542.0     NaN      1965.0            3165             40.775794   \n",
       "1  21136.0     NaN      1987.0             498             40.748549   \n",
       "2  18147.0     NaN         NaN            3152             40.768737   \n",
       "3  21211.0     NaN         NaN            3152             40.768737   \n",
       "4  26819.0     NaN         NaN            3152             40.768737   \n",
       "\n",
       "   end station longitude             end station name  gender  \\\n",
       "0             -73.976206  Central Park West & W 72 St       2   \n",
       "1             -73.988084           Broadway & W 32 St       2   \n",
       "2             -73.961199              3 Ave & E 71 St       0   \n",
       "3             -73.961199              3 Ave & E 71 St       0   \n",
       "4             -73.961199              3 Ave & E 71 St       0   \n",
       "\n",
       "   start station id  start station latitude  start station longitude  \\\n",
       "0              3226               40.782750               -73.971370   \n",
       "1              3263               40.729236               -73.990868   \n",
       "2              3143               40.776829               -73.963888   \n",
       "3              3143               40.776829               -73.963888   \n",
       "4              3143               40.776829               -73.963888   \n",
       "\n",
       "            start station name           start time starttime  \\\n",
       "0  W 82 St & Central Park West  2017-01-01 00:00:21       NaN   \n",
       "1       Cooper Square & E 7 St  2017-01-01 00:00:45       NaN   \n",
       "2              5 Ave & E 78 St  2017-01-01 00:00:57       NaN   \n",
       "3              5 Ave & E 78 St  2017-01-01 00:01:10       NaN   \n",
       "4              5 Ave & E 78 St  2017-01-01 00:01:25       NaN   \n",
       "\n",
       "             stop time stoptime  tripduration   user type usertype  \n",
       "0  2017-01-01 00:11:41      NaN           680  Subscriber      NaN  \n",
       "1  2017-01-01 00:22:08      NaN          1282  Subscriber      NaN  \n",
       "2  2017-01-01 00:11:46      NaN           648    Customer      NaN  \n",
       "3  2017-01-01 00:11:42      NaN           631    Customer      NaN  \n",
       "4  2017-01-01 00:11:47      NaN           621    Customer      NaN  "
      ]
     },
     "execution_count": 14,
     "metadata": {},
     "output_type": "execute_result"
    }
   ],
   "source": [
    "print df[df[\"gender\"] == 0].size / float(df.size)\n",
    "df.head()"
   ]
  },
  {
   "cell_type": "markdown",
   "metadata": {},
   "source": [
    "5. Display the reducted dataframe. This table __must be rendered__."
   ]
  },
  {
   "cell_type": "code",
   "execution_count": 15,
   "metadata": {
    "collapsed": false
   },
   "outputs": [
    {
     "data": {
      "text/html": [
       "<div>\n",
       "<style>\n",
       "    .dataframe thead tr:only-child th {\n",
       "        text-align: right;\n",
       "    }\n",
       "\n",
       "    .dataframe thead th {\n",
       "        text-align: left;\n",
       "    }\n",
       "\n",
       "    .dataframe tbody tr th {\n",
       "        vertical-align: top;\n",
       "    }\n",
       "</style>\n",
       "<table border=\"1\" class=\"dataframe\">\n",
       "  <thead>\n",
       "    <tr style=\"text-align: right;\">\n",
       "      <th></th>\n",
       "      <th>gender</th>\n",
       "      <th>tripduration</th>\n",
       "    </tr>\n",
       "  </thead>\n",
       "  <tbody>\n",
       "    <tr>\n",
       "      <th>0</th>\n",
       "      <td>2</td>\n",
       "      <td>680</td>\n",
       "    </tr>\n",
       "    <tr>\n",
       "      <th>1</th>\n",
       "      <td>2</td>\n",
       "      <td>1282</td>\n",
       "    </tr>\n",
       "    <tr>\n",
       "      <th>5</th>\n",
       "      <td>1</td>\n",
       "      <td>666</td>\n",
       "    </tr>\n",
       "    <tr>\n",
       "      <th>6</th>\n",
       "      <td>1</td>\n",
       "      <td>559</td>\n",
       "    </tr>\n",
       "    <tr>\n",
       "      <th>7</th>\n",
       "      <td>2</td>\n",
       "      <td>826</td>\n",
       "    </tr>\n",
       "  </tbody>\n",
       "</table>\n",
       "</div>"
      ],
      "text/plain": [
       "   gender  tripduration\n",
       "0       2           680\n",
       "1       2          1282\n",
       "5       1           666\n",
       "6       1           559\n",
       "7       2           826"
      ]
     },
     "execution_count": 15,
     "metadata": {},
     "output_type": "execute_result"
    }
   ],
   "source": [
    "# thanks for the quantile tip, matt\n",
    "reducted = df[[\"gender\", \"tripduration\"]]\n",
    "q = reducted[reducted[\"gender\"] != 0][\"tripduration\"].quantile(.99) # per citibike docs\n",
    "reducted = reducted[(reducted[\"gender\"] != 0) & (reducted[\"tripduration\"] < q)]\n",
    "reducted.head()"
   ]
  },
  {
   "cell_type": "markdown",
   "metadata": {},
   "source": [
    "6. Plot your data distributions."
   ]
  },
  {
   "cell_type": "code",
   "execution_count": 16,
   "metadata": {
    "collapsed": false
   },
   "outputs": [
    {
     "data": {
      "text/plain": [
       "<matplotlib.text.Text at 0x7f3776895350>"
      ]
     },
     "execution_count": 16,
     "metadata": {},
     "output_type": "execute_result"
    },
    {
     "data": {
      "image/png": "[encoded data removed]",
      "text/plain": [
       "<matplotlib.figure.Figure at 0x7f38cc0d7e50>"
      ]
     },
     "metadata": {},
     "output_type": "display_data"
    }
   ],
   "source": [
    "males = reducted[reducted[\"gender\"] == 1][\"tripduration\"]\n",
    "females = reducted[reducted[\"gender\"] == 2][\"tripduration\"]\n",
    "ax = males.hist(label=\"males\")\n",
    "females.hist(ax=ax, label=\"females\")\n",
    "ax.legend()\n",
    "ax.set_title(\"tripduration of male + female ridership samples, 2017 YTD\")\n",
    "ax.set_xlabel(\"trip duration (seconds)\")\n",
    "ax.set_ylabel(\"count (trips)\")"
   ]
  },
  {
   "cell_type": "markdown",
   "metadata": {},
   "source": [
    "#### Caption\n",
    "These are raw counts, not normalized, but we can still see that the distributions are quite similar (incl. a similar looking mean). From this plot I would **not** expect to reject the null hypothesis... but, as we'll see, the plot is just not granular enough."
   ]
  },
  {
   "cell_type": "markdown",
   "metadata": {},
   "source": [
    "### New stuff for HW7... Mann-Whitney U-test"
   ]
  },
  {
   "cell_type": "markdown",
   "metadata": {},
   "source": [
    "Small pieces of feedback incorporated above (see commit history). Full-fledged response [here](CitibikeReview_mas1300.md)\n",
    "\n",
    "I would **initially** assume these are Poisson distributed - they're counts of seconds in each trip. Given our mean is ~700 (for the males), this implies we could basically use the normal distribution. However, as we can see from the KS test, this does not work well."
   ]
  },
  {
   "cell_type": "code",
   "execution_count": 17,
   "metadata": {
    "collapsed": false
   },
   "outputs": [
    {
     "name": "stdout",
     "output_type": "stream",
     "text": [
      "males count: 5690786\n",
      "females count: 1881186\n",
      "proportion of unreported gender rides: 0.105626114013\n"
     ]
    }
   ],
   "source": [
    "print \"males count: {}\".format(len(males))\n",
    "print \"females count: {}\".format(len(females))\n",
    "print \"proportion of unreported gender rides: {}\".format(df[df[\"gender\"] == 0].size / float(df.size))"
   ]
  },
  {
   "cell_type": "code",
   "execution_count": 18,
   "metadata": {
    "collapsed": false
   },
   "outputs": [
    {
     "name": "stdout",
     "output_type": "stream",
     "text": [
      "KS test on males: KstestResult(statistic=0.12907128540515694, pvalue=0.0)\n",
      "KS test on females: KstestResult(statistic=0.11535592062804156, pvalue=0.0)\n"
     ]
    }
   ],
   "source": [
    "m_cdf = lambda x: scipy.stats.norm.cdf(x, loc=males.mean(), scale=males.std(ddof=1))\n",
    "f_cdf = lambda x: scipy.stats.norm.cdf(x, loc=females.mean(), scale=females.std(ddof=1))\n",
    "print \"KS test on males: {}\".format(scipy.stats.kstest(males, m_cdf))\n",
    "print \"KS test on females: {}\".format(scipy.stats.kstest(females, f_cdf))"
   ]
  },
  {
   "cell_type": "markdown",
   "metadata": {},
   "source": [
    "With this in mind, I'll still run the Z/T tests..."
   ]
  },
  {
   "cell_type": "code",
   "execution_count": 19,
   "metadata": {
    "collapsed": false
   },
   "outputs": [
    {
     "name": "stdout",
     "output_type": "stream",
     "text": [
      "males mean: 701.243491497\n",
      "females mean: 805.868210799\n",
      "z score: -236.578334605\n",
      "p-value from t-test: 0.0\n",
      "p-value from z-test: 0.0\n"
     ]
    }
   ],
   "source": [
    "mu_m = males.mean()\n",
    "mu_f = females.mean()\n",
    "sesq_m = males.var(ddof=1) / float(len(males))\n",
    "sesq_f = females.var(ddof=1) / float(len(females))\n",
    "\n",
    "print \"males mean: {}\".format(mu_m)\n",
    "print \"females mean: {}\".format(mu_f)\n",
    "z = (mu_m - mu_f) / np.sqrt(sesq_m + sesq_f)\n",
    "print \"z score: {}\".format(z)\n",
    "print \"p-value from t-test: {}\".format(2 * scipy.stats.t.cdf(z, len(males) + len(females) - 2))\n",
    "print \"p-value from z-test: {}\".format(2 * scipy.stats.norm.cdf(z))"
   ]
  },
  {
   "cell_type": "markdown",
   "metadata": {},
   "source": [
    "And we see that using sample mean and variance estimates, we get p-values of 0.0 in either case (i.e. reject the null from above).\n",
    "\n",
    "### Now let's use mann-whitney"
   ]
  },
  {
   "cell_type": "code",
   "execution_count": 20,
   "metadata": {
    "collapsed": false
   },
   "outputs": [
    {
     "data": {
      "text/plain": [
       "MannwhitneyuResult(statistic=4670687165540.0, pvalue=0.0)"
      ]
     },
     "execution_count": 20,
     "metadata": {},
     "output_type": "execute_result"
    }
   ],
   "source": [
    "scipy.stats.mannwhitneyu(males, females, alternative=\"two-sided\")"
   ]
  },
  {
   "cell_type": "markdown",
   "metadata": {
    "collapsed": true
   },
   "source": [
    "So again, we reject the null and conclude that these are two different populations."
   ]
  },
  {
   "cell_type": "markdown",
   "metadata": {},
   "source": [
    "### Conclusion: we reject the null hypothesis and accept the alternative that average trip duration is not the same among males and females."
   ]
  },
  {
   "cell_type": "markdown",
   "metadata": {
    "collapsed": true
   },
   "source": [
    "### Other plots for paper"
   ]
  },
  {
   "cell_type": "code",
   "execution_count": 21,
   "metadata": {
    "collapsed": false
   },
   "outputs": [
    {
     "data": {
      "text/plain": [
       "[<matplotlib.text.Text at 0x7f37f7da1250>,\n",
       " <matplotlib.text.Text at 0x7f37f5240bd0>,\n",
       " <matplotlib.text.Text at 0x7f3888b1f050>]"
      ]
     },
     "execution_count": 21,
     "metadata": {},
     "output_type": "execute_result"
    },
    {
     "data": {
      "image/png": "[encoded data removed]",
      "text/plain": [
       "<matplotlib.figure.Figure at 0x7f37a945a390>"
      ]
     },
     "metadata": {},
     "output_type": "display_data"
    }
   ],
   "source": [
    "ax = df[\"gender\"].value_counts().plot(kind='bar')\n",
    "ax.set_title(\"Number of rides by subscriber type\")\n",
    "ax.set_ylabel(\"Counts (trips)\")\n",
    "ax.set_xlabel(\"Subscriber type\")\n",
    "ax.set_xticklabels([\"Male\", \"Female\", \"Unreported/Other\"], rotation=0)"
   ]
  },
  {
   "cell_type": "code",
   "execution_count": null,
   "metadata": {
    "collapsed": false
   },
   "outputs": [],
   "source": []
  },
  {
   "cell_type": "code",
   "execution_count": 22,
   "metadata": {
    "collapsed": false
   },
   "outputs": [
    {
     "data": {
      "text/plain": [
       "<matplotlib.text.Text at 0x7f37fe3fd0d0>"
      ]
     },
     "execution_count": 22,
     "metadata": {},
     "output_type": "execute_result"
    },
    {
     "data": {
      "image/png": "[encoded data removed]",
      "text/plain": [
       "<matplotlib.figure.Figure at 0x7f37f5240d50>"
      ]
     },
     "metadata": {},
     "output_type": "display_data"
    }
   ],
   "source": [
    "# 95 % interval\n",
    "ci_width = scipy.stats.norm.isf(.025)\n",
    "\n",
    "fig=plt.figure(figsize=(15,6))\n",
    "ax1=fig.add_subplot(121)\n",
    "ax1.set_xticks([])\n",
    "ax1.errorbar(.1, mu_m, ci_width * sesq_m, fmt='o', c='r', label='male mean')\n",
    "ax1.errorbar(.3, mu_f, ci_width * sesq_f, fmt='o', c='b', label='female mean')\n",
    "\n",
    "ax1.set_xlim(0, .5)\n",
    "ax1.legend()\n",
    "ax1.set_ylabel(\"Trip duration\")\n",
    "ax1.set_xlabel(\"Means\")\n",
    "ax1.set_title(\"Mean trip durations with confidence intervals with tiny error bars\")"
   ]
  },
  {
   "cell_type": "code",
   "execution_count": 23,
   "metadata": {
    "collapsed": false
   },
   "outputs": [
    {
     "data": {
      "text/plain": [
       "[701.15823417842387, 701.32874881478654]"
      ]
     },
     "execution_count": 23,
     "metadata": {},
     "output_type": "execute_result"
    }
   ],
   "source": [
    "[mu_m - ci_width * sesq_m, mu_m + ci_width * sesq_m]"
   ]
  },
  {
   "cell_type": "code",
   "execution_count": 24,
   "metadata": {
    "collapsed": false
   },
   "outputs": [
    {
     "data": {
      "text/plain": [
       "[805.57014345441655, 806.16627814344781]"
      ]
     },
     "execution_count": 24,
     "metadata": {},
     "output_type": "execute_result"
    }
   ],
   "source": [
    "[mu_f - ci_width * sesq_f, mu_f + ci_width * sesq_f]"
   ]
  },
  {
   "cell_type": "code",
   "execution_count": null,
   "metadata": {
    "collapsed": true
   },
   "outputs": [],
   "source": []
  }
 ],
 "metadata": {
  "kernelspec": {
   "display_name": "Python 2",
   "language": "python",
   "name": "python2"
  },
  "language_info": {
   "codemirror_mode": {
    "name": "ipython",
    "version": 2
   },
   "file_extension": ".py",
   "mimetype": "text/x-python",
   "name": "python",
   "nbconvert_exporter": "python",
   "pygments_lexer": "ipython2",
   "version": "2.7.11"
  }
 },
 "nbformat": 4,
 "nbformat_minor": 0
}
